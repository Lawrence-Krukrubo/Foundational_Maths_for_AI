{
 "cells": [
  {
   "cell_type": "markdown",
   "metadata": {},
   "source": [
    "# Learning Objectives\n",
    "In this section, you will:\n",
    "\n",
    "* Determine whether a relation represents a function.\n",
    "* Find the value of a function.\n",
    "* Determine whether a function is one-to-one.\n",
    "* Use the vertical line test to identify functions.\n",
    "* Graph the functions listed in the library of functions."
   ]
  },
  {
   "cell_type": "markdown",
   "metadata": {},
   "source": [
    "## Use this [Link](https://www.youtube.com/watch?v=RTpL1lPmlls&list=PLx8hCMnrVJFP0bkd8gpImKdLOffwVjhgk&index=11) for videos on finding the factors of binomials and trinomials"
   ]
  },
  {
   "cell_type": "markdown",
   "metadata": {},
   "source": [
    "### Determining Whether a Relation Represents a Function\n",
    "A relation is a set of ordered pairs. The set of the first components of each ordered pair is called the **domain** and the set of the second components of each ordered pair is called the **range**.\n",
    "\n",
    "A function $f$ is a relation that assigns a single value in the *range* to each value in the *domain*. In other words, given values in the domain as $x$ and those in the range as $y$, then for the relationship to be a function, no $x$-values are repeated, when assigning $y$ values to $x$ values.\n",
    "\n",
    "**This means that 2 distinct values in the domain may be assigned the same value in the range, but no two distinct values in the range can be assigned to the same value in the domain.**\n",
    "\n",
    "for example, if the domain contains amongst other values the values -2 and 2. Then both values may be assigned the same, single range value of 4, if the relationship between the domain and the range is a squaring relationship. I.e $2^2 = 4$ and $-2^2 = 4$\n",
    "\n",
    "<img src='https://openstax.org/apps/archive/20210823.155019/resources/6b41ee83a62edd93cf9e80894490f065d2031df7'>\n",
    "\n",
    "Figure above: (a) This relationship is a function because each input is associated with a single output. Note that input  q  and  r  both give output  n.  (b) This relationship is also a function. In this case, each input is associated with a single output. (c) This relationship is not a function because input  q  is associated with two different outputs."
   ]
  },
  {
   "cell_type": "markdown",
   "metadata": {},
   "source": [
    "<h3> Relation Examples:</h3>\n",
    "Consider the following set of ordered pairs\n",
    "<h3> {$(1, 2), (2, 4), (3, 6), (4, 8), (5, 10)$}</h3>\n",
    "The <b>domain</b> is {$1, 2, 3, 4, 5$} and the <b>range</b> is {$2, 4, 6, 8, 10$}.<br>Since each distinct value in the domain is assigned only one value in the range, this relation is a <b>Function</b>. \n",
    "\n",
    "Now, consider the following...<br>\n",
    "<h3>{$(odd, 1), (even, 2), (odd, 3), (even, 4), (odd, 5)$}</h3>Since each distinct value in the domain (odd, even) is assigned more than one value in the range (1, 3, 5) and (2, 4), this relation is not a <b>Function</b>. \n",
    "\n",
    "Note that each value in the domain is also known as an _input value_, or _independent variable_, and is often labeled with the lowercase letter  $x$.  Each value in the range is also known as an _output value_, or _dependent variable_, and is often labeled lowercase letter  $y$."
   ]
  },
  {
   "cell_type": "markdown",
   "metadata": {},
   "source": [
    "### HOW TO IDENTIFY A FUNCTION FROM A RELATION:\n",
    "Given a relationship between two quantities, determine whether the relationship is a function.\n",
    "\n",
    "1. Identify the input values.\n",
    "2. Identify the output values.\n",
    "\n",
    "If each input value leads to only one output value, classify the relationship as a function. If any input value leads to two or more outputs, do not classify the relationship as a function."
   ]
  },
  {
   "cell_type": "markdown",
   "metadata": {},
   "source": [
    "### FUNCTION\n",
    "A function is a relation in which each possible input value leads to exactly one output value. \n",
    "**We say “the output is a function of the input.”** The input values make up the **domain**, and the output values make up the **range**.\n",
    "\n",
    "<img src='https://openstax.org/apps/archive/20210823.155019/resources/891ac2bd18a398c550f2aae376fe76fe5b13d4d4'>\n",
    "\n",
    "* Is price a function of the item?\n",
    "* Is the item a function of the price?\n",
    "\n",
    "I say the price is a function of the item, since each item has just one price... <br>But, the item is not a function of the price, since the same price of $1.99 has different items."
   ]
  },
  {
   "cell_type": "markdown",
   "metadata": {},
   "source": [
    "**Ex 2.**\n",
    "\n",
    "I'd say Percent-Range(PR or PG) is a function of Grade-Point-Average(GPA), since each GPA has just one PG score.<br>\n",
    "While, GPA is not a function of PG, since each PG has multiple or a range of GPA scores."
   ]
  },
  {
   "cell_type": "markdown",
   "metadata": {},
   "source": [
    "**Ex 3.**\n",
    "\n",
    "Yes the rank is a function of player name, given that each player name produces a specific rank<br>\n",
    "Also, the player name is a function of the rank, given that each rank produces a specific player name."
   ]
  },
  {
   "cell_type": "markdown",
   "metadata": {},
   "source": [
    "### FUNCTION NOTATION\n",
    "The notation  $y=f(x)$  defines a function named  $f$.  This is read as  “$y$  is a function of  $x$.”  The letter  $x$  represents the _input value_, or _independent variable_. The letter  $y$,   or  $f(x)$,  represents the _output value_, or _dependent variable_."
   ]
  },
  {
   "cell_type": "markdown",
   "metadata": {},
   "source": [
    "**Using Function Notation for Days in a Month**\n",
    "\n",
    "Use function notation to represent a function whose input takes two values:- The name of a month and the year in question. Then it outputs the number of days in that month. Let's denote some variables...\n",
    "\n",
    "* $d$ = number of days in a month. This is our dependent variable or $y$\n",
    "* $x$ = (name-of-the-month, year-in-question). These are our independent variables\n",
    "\n",
    "therefore $d = f(x)$\n",
    "\n",
    "where $f$ is a function that takes $x$ and outputs $d$"
   ]
  },
  {
   "cell_type": "code",
   "execution_count": 1,
   "metadata": {},
   "outputs": [],
   "source": [
    "import pandas as pd\n",
    "import numpy as np\n",
    "from calendar import monthrange\n",
    "import matplotlib.pyplot as plt"
   ]
  },
  {
   "cell_type": "code",
   "execution_count": 2,
   "metadata": {},
   "outputs": [],
   "source": [
    "def days_in_month(month, year=2021):\n",
    "    \"\"\"Function takes a month and\n",
    "        returns the number of days\n",
    "    \n",
    "    @param month: string, for name of month\n",
    "    @param year: int, default 2021, can be any legal year\n",
    "    @return: int, number of days in month\n",
    "    \"\"\"\n",
    "    month = month[:3].lower()\n",
    "    \n",
    "    temp = {'jan':1, 'feb':2, 'mar':3, 'apr':4, 'may':5, 'jun':6,\n",
    "           'jul':7, 'aug':8, 'sep':9, 'oct':10, 'nov':11, 'dec':12}\n",
    "    \n",
    "    month_id = temp[month]\n",
    "    num_days = monthrange(year, month_id)[1]\n",
    "    \n",
    "    return num_days"
   ]
  },
  {
   "cell_type": "code",
   "execution_count": 3,
   "metadata": {},
   "outputs": [
    {
     "data": {
      "text/plain": [
       "28"
      ]
     },
     "execution_count": 3,
     "metadata": {},
     "output_type": "execute_result"
    }
   ],
   "source": [
    "# Check number of days in Feb 2021\n",
    "\n",
    "month = 'February'\n",
    "days_in_month(month)"
   ]
  },
  {
   "cell_type": "code",
   "execution_count": 4,
   "metadata": {},
   "outputs": [
    {
     "data": {
      "text/plain": [
       "29"
      ]
     },
     "execution_count": 4,
     "metadata": {},
     "output_type": "execute_result"
    }
   ],
   "source": [
    "# Check number of days in Feb 2016, a leap-year\n",
    "\n",
    "year = 2016\n",
    "days_in_month(month, year)"
   ]
  },
  {
   "cell_type": "code",
   "execution_count": 5,
   "metadata": {},
   "outputs": [
    {
     "data": {
      "text/plain": [
       "31"
      ]
     },
     "execution_count": 5,
     "metadata": {},
     "output_type": "execute_result"
    }
   ],
   "source": [
    "# Check number of days in Dec 1959\n",
    "\n",
    "year = 1959\n",
    "month = 'december'\n",
    "days_in_month(month, year)"
   ]
  },
  {
   "cell_type": "markdown",
   "metadata": {},
   "source": [
    "**Solution**\n",
    "\n",
    "The number of days in a month is a function of the name of the month, so if we name the function $f$, we write  $days=f(month)$  or $d=f(m)$. The name of the month is the input to a **“rule”** that associates a specific number (the output) with each input.\n",
    "\n",
    "<img src='https://openstax.org/apps/archive/20210823.155019/resources/debe52c37e0c953a4c0fa61977b6c12ed9c012bd'>\n",
    "\n",
    "For example, $f(March)=31$, because March has 31 days. The notation $d=f(m)$ reminds us that the number of days, $d$ (the output), is dependent on the name of the month, $m$ (the input).\n",
    "\n",
    "_Analysis_\n",
    "\n",
    "Note that the inputs to a function do not have to be numbers; function inputs can be names of people, labels of geometric objects, or any other element that determines some kind of output. However, most of the functions we will work will have numbers as inputs and outputs."
   ]
  },
  {
   "cell_type": "markdown",
   "metadata": {},
   "source": [
    "**Interpreting Function Notation:**\n",
    "\n",
    "A function $N=f(y)$ gives the number of police officers, $N$, in a town in year $y$. What does $f(2005)=300$ represent?\n",
    "\n",
    "It represents the functional expression that for the year 2005, there are 300 police officers in the town"
   ]
  },
  {
   "cell_type": "markdown",
   "metadata": {},
   "source": [
    "**Ex 4:**\n",
    "\n",
    "Use function notation to express the weight of a pig in pounds as a function of its age in days $d$.\n",
    "\n",
    "$f(d) = w$, where $d$ = age-in-days and $w$ = weight-in-pounds"
   ]
  },
  {
   "cell_type": "markdown",
   "metadata": {},
   "source": [
    "### Q&A\n",
    "Instead of a notation such as $y=f(x)$, could we use the same symbol for the output as for the function, such as $y=y(x)$,  meaning **“y is a function of x?”**\n",
    "\n",
    "Yes, this is often done, especially in applied subjects that use higher math, such as physics and engineering. However, in exploring math itself we like to maintain a distinction between a function such as $f$, which is a rule or procedure, and the output $y$ we get by applying $f$ to a particular input $x$. This is why we usually use notation such as $y=f(x)$, $P=W(d)$,  and so on."
   ]
  },
  {
   "cell_type": "markdown",
   "metadata": {},
   "source": [
    "### Finding Input and Output Values of a Function:\n",
    "When we know an input value and want to determine the corresponding output value for a function, we evaluate the function. Evaluating will always produce one result because each input value of a function corresponds to exactly one output value.\n",
    "\n",
    "**When we know an output value and want to determine the input values that would produce that output value, we set the output equal to the function’s rule or formula and solve for the input.** Solving can produce more than one solution because different input values can produce the same output value."
   ]
  },
  {
   "cell_type": "markdown",
   "metadata": {},
   "source": [
    "### Evaluation of Functions in Algebraic Forms:\n",
    "When we have a function in formula form, it is usually a simple matter to evaluate the function. For example, the function  $f(x)=5−3x^2$ can be evaluated by squaring the input value, multiplying by 3, and then subtracting the product from 5.\n",
    "\n",
    "This simply means for any value of $x$, $f(x)$ is 5-($x^2$*3)"
   ]
  },
  {
   "cell_type": "markdown",
   "metadata": {},
   "source": [
    "**EXAMPLE 6:**\n",
    "\n",
    "Evaluating Functions at Specific Values\n",
    "Evaluate  $f(x)=x^2+3x−4$  at:\n",
    "\n",
    "* 2\n",
    "* a\n",
    "* a+h\n"
   ]
  },
  {
   "cell_type": "code",
   "execution_count": 6,
   "metadata": {},
   "outputs": [
    {
     "data": {
      "text/plain": [
       "6"
      ]
     },
     "execution_count": 6,
     "metadata": {},
     "output_type": "execute_result"
    }
   ],
   "source": [
    "# when x is 2\n",
    "x = 2\n",
    "\n",
    "f_of_x = x**2+3*x-4\n",
    "f_of_x"
   ]
  },
  {
   "cell_type": "markdown",
   "metadata": {},
   "source": [
    "when x = a\n",
    "\n",
    "**f_of_x = $a^2 + 3a - 4$**"
   ]
  },
  {
   "cell_type": "markdown",
   "metadata": {},
   "source": [
    "when x = a+h\n",
    "\n",
    "f_of_x = $(a+h)^2 + 3(a+h) - 4$<br>\n",
    "**f_of_x = $a^2 + 2ah + h^2 + 3a + 3h - 4$**<br>"
   ]
  },
  {
   "cell_type": "markdown",
   "metadata": {},
   "source": [
    "Now evaluate  \n",
    "## ${f(a+h)−f(a)} \\over h$"
   ]
  },
  {
   "cell_type": "markdown",
   "metadata": {},
   "source": [
    "From the above, since we know what $f(a+h)$ and $f(a)$ are, we can substitute these values to the numerator above\n",
    "\n",
    "## x = ${(a^2 + 2ah + h^2 + 3a + 3h - 4) - (a^2 + 3a - 4)} \\over h$\n",
    "\n",
    "Now expand the parenthesis...\n",
    "\n",
    "## x = ${a^2 + 2ah + h^2 + 3a + 3h - 4 - a^2 - 3a + 4} \\over h$"
   ]
  },
  {
   "cell_type": "markdown",
   "metadata": {},
   "source": [
    "Now, we solve for like terms\n",
    "\n",
    "## x = ${2ah + h^2 + 3h} \\over h$"
   ]
  },
  {
   "cell_type": "markdown",
   "metadata": {},
   "source": [
    "Now, we continue, solving for $h$ in denominator\n",
    "\n",
    "## x = ${h(2a + h + 3)} \\over h$\n",
    "\n",
    "X is now:\n",
    "## x = $2a + h + 3$"
   ]
  },
  {
   "cell_type": "code",
   "execution_count": null,
   "metadata": {},
   "outputs": [],
   "source": []
  },
  {
   "cell_type": "markdown",
   "metadata": {},
   "source": [
    "**Evaluating Functions**\n",
    "\n",
    "Given the function  \n",
    "### $h(p)=p^2+2p$\n",
    "evaluate $h(4)$."
   ]
  },
  {
   "cell_type": "code",
   "execution_count": 7,
   "metadata": {},
   "outputs": [
    {
     "data": {
      "text/plain": [
       "24"
      ]
     },
     "execution_count": 7,
     "metadata": {},
     "output_type": "execute_result"
    }
   ],
   "source": [
    "p = 4\n",
    "\n",
    "h_of_p = p**2 + 2*p\n",
    "h_of_p"
   ]
  },
  {
   "cell_type": "markdown",
   "metadata": {},
   "source": [
    "Therefore, for an input of 4, we have an output of 24."
   ]
  },
  {
   "cell_type": "markdown",
   "metadata": {},
   "source": [
    "Given the function  \n",
    "### $g(m)= \\sqrt{m-4}$  \n",
    "evaluate g(5)."
   ]
  },
  {
   "cell_type": "code",
   "execution_count": 8,
   "metadata": {},
   "outputs": [
    {
     "data": {
      "text/plain": [
       "1.0"
      ]
     },
     "execution_count": 8,
     "metadata": {},
     "output_type": "execute_result"
    }
   ],
   "source": [
    "m = 5\n",
    "\n",
    "g_of_m = (m - 4)**0.5\n",
    "g_of_m"
   ]
  },
  {
   "cell_type": "markdown",
   "metadata": {},
   "source": [
    "Given the function  \n",
    "### $h(p)=p^2+2p$\n",
    "solve for $h(p)=3$.\n"
   ]
  },
  {
   "cell_type": "markdown",
   "metadata": {},
   "source": [
    "**Let's solve the above function manually...**\n",
    "\n",
    "### $h(p) = p^2 + 2p$ \n",
    "solve for $h(p) = 3$ \n",
    "\n",
    "Solving this means that\n",
    "\n",
    "### $3 = p^2 + 2p$, which is same as $p^2 + 2p = 3$\n",
    "\n",
    "Now, let's deduct 3 from both sides of the equation\n",
    "### $p^2 + 2p - 3 = 0$\n",
    "\n",
    "Now, for the given trinomial above, let's factor it into 2 binomials.<br>\n",
    "The first values will be $p$ and $p$ to create the first term $p^2$\n",
    "### $(p )(p )$\n",
    "Since the trinomial has a leading coefficient of 1 ($1 * p^2$), to find the remaining values,<br>\n",
    "We need to find two numbers whose product is -3 and whose sum is 2...\n",
    "This gives us the numbers 3 and -1\n",
    "### $(p + 3)(p - 1)=0$\n",
    "To check if we got the factors right, we can multiply using **FOIL**<br>\n",
    "**F**: First<br>\n",
    "**O**: Outer<br>\n",
    "**I**: Inner<br>\n",
    "**L**: last\n",
    "\n",
    "Thus $(p*p) + (p*-1) + (3*p) + (3*-1)$\n",
    "\n",
    "This gives $p^2 - p + 3p - 3$\n",
    "\n",
    "Which evaluates to the original trinomial $p^2 + 2p -3$"
   ]
  },
  {
   "cell_type": "markdown",
   "metadata": {},
   "source": [
    "Going by the two factors above, it means that either $(p + 3) = 0$ or $(p - 1) = 0$ or both.<br>\n",
    "This means that when the output ($h(p) = 3$), then the inputs are either $p$ = -3 or $p$ = 1"
   ]
  },
  {
   "cell_type": "markdown",
   "metadata": {},
   "source": [
    "### Graphing the above function to show the inputs for $h(p) = 3$"
   ]
  },
  {
   "cell_type": "code",
   "execution_count": 29,
   "metadata": {},
   "outputs": [],
   "source": [
    "# Lets take a range of input values p from -5 to 5\n",
    "p_range = list(range(-5,6))"
   ]
  },
  {
   "cell_type": "code",
   "execution_count": 30,
   "metadata": {},
   "outputs": [],
   "source": [
    "# now a function to find h-of-p, given p-range\n",
    "\n",
    "def h_of_p(p_range):\n",
    "    hOfP = [p**2 + 2*p for p in p_range]\n",
    "    \n",
    "    return hOfP"
   ]
  },
  {
   "cell_type": "code",
   "execution_count": 31,
   "metadata": {},
   "outputs": [
    {
     "name": "stdout",
     "output_type": "stream",
     "text": [
      "[-5, -4, -3, -2, -1, 0, 1, 2, 3, 4, 5]\n"
     ]
    },
    {
     "data": {
      "text/plain": [
       "[15, 8, 3, 0, -1, 0, 3, 8, 15, 24, 35]"
      ]
     },
     "execution_count": 31,
     "metadata": {},
     "output_type": "execute_result"
    }
   ],
   "source": [
    "print(p_range)\n",
    "h_of_p(p_range)"
   ]
  },
  {
   "cell_type": "code",
   "execution_count": 32,
   "metadata": {},
   "outputs": [],
   "source": [
    "def values_to_df(function_output, *args, columns=['Output']):\n",
    "    p_values = pd.DataFrame(function_output(*args), index=args[0], columns=['Output'])\n",
    "    p_values.index.name = 'Input'\n",
    "    \n",
    "    return p_values"
   ]
  },
  {
   "cell_type": "code",
   "execution_count": 33,
   "metadata": {},
   "outputs": [
    {
     "data": {
      "text/html": [
       "<div>\n",
       "<style scoped>\n",
       "    .dataframe tbody tr th:only-of-type {\n",
       "        vertical-align: middle;\n",
       "    }\n",
       "\n",
       "    .dataframe tbody tr th {\n",
       "        vertical-align: top;\n",
       "    }\n",
       "\n",
       "    .dataframe thead th {\n",
       "        text-align: right;\n",
       "    }\n",
       "</style>\n",
       "<table border=\"1\" class=\"dataframe\">\n",
       "  <thead>\n",
       "    <tr style=\"text-align: right;\">\n",
       "      <th></th>\n",
       "      <th>Output</th>\n",
       "    </tr>\n",
       "    <tr>\n",
       "      <th>Input</th>\n",
       "      <th></th>\n",
       "    </tr>\n",
       "  </thead>\n",
       "  <tbody>\n",
       "    <tr>\n",
       "      <th>-5</th>\n",
       "      <td>15</td>\n",
       "    </tr>\n",
       "    <tr>\n",
       "      <th>-4</th>\n",
       "      <td>8</td>\n",
       "    </tr>\n",
       "    <tr>\n",
       "      <th>-3</th>\n",
       "      <td>3</td>\n",
       "    </tr>\n",
       "    <tr>\n",
       "      <th>-2</th>\n",
       "      <td>0</td>\n",
       "    </tr>\n",
       "    <tr>\n",
       "      <th>-1</th>\n",
       "      <td>-1</td>\n",
       "    </tr>\n",
       "    <tr>\n",
       "      <th>0</th>\n",
       "      <td>0</td>\n",
       "    </tr>\n",
       "    <tr>\n",
       "      <th>1</th>\n",
       "      <td>3</td>\n",
       "    </tr>\n",
       "    <tr>\n",
       "      <th>2</th>\n",
       "      <td>8</td>\n",
       "    </tr>\n",
       "    <tr>\n",
       "      <th>3</th>\n",
       "      <td>15</td>\n",
       "    </tr>\n",
       "    <tr>\n",
       "      <th>4</th>\n",
       "      <td>24</td>\n",
       "    </tr>\n",
       "    <tr>\n",
       "      <th>5</th>\n",
       "      <td>35</td>\n",
       "    </tr>\n",
       "  </tbody>\n",
       "</table>\n",
       "</div>"
      ],
      "text/plain": [
       "       Output\n",
       "Input        \n",
       "-5         15\n",
       "-4          8\n",
       "-3          3\n",
       "-2          0\n",
       "-1         -1\n",
       " 0          0\n",
       " 1          3\n",
       " 2          8\n",
       " 3         15\n",
       " 4         24\n",
       " 5         35"
      ]
     },
     "execution_count": 33,
     "metadata": {},
     "output_type": "execute_result"
    }
   ],
   "source": [
    "p_values = values_to_df(h_of_p, p_range, columns=['Output'])\n",
    "p_values"
   ]
  },
  {
   "cell_type": "code",
   "execution_count": 34,
   "metadata": {},
   "outputs": [
    {
     "data": {
      "image/png": "[encoded data removed]",
      "text/plain": [
       "<Figure size 432x288 with 1 Axes>"
      ]
     },
     "metadata": {
      "needs_background": "light"
     },
     "output_type": "display_data"
    }
   ],
   "source": [
    "p_values.plot(grid=True)\n",
    "plt.annotate(xy=(-3, 3), text='*', color='r')\n",
    "plt.annotate(xy=(1, 3), text='*', color='r')\n",
    "plt.title('function to plot h(p)=3, given, h(p)=p^2 + 2p')\n",
    "plt.show()"
   ]
  },
  {
   "cell_type": "markdown",
   "metadata": {},
   "source": [
    "**We can see the red dots for both inputs -3 and 1 having the same output of 3**"
   ]
  },
  {
   "cell_type": "markdown",
   "metadata": {},
   "source": [
    "## Given the function  \n",
    "### $g(m)=\\sqrt{m-4}$,  \n",
    "**solve $g(m)=2$**."
   ]
  },
  {
   "cell_type": "markdown",
   "metadata": {},
   "source": [
    "* This also means...=> $\\sqrt{m-4}=2$,\n",
    "* To remove the sqrt, we square the value...=> $m-4=2^2$, which is $m-4=4$\n",
    "* Now we solve for $m$...=> $m=4+4$, $m=8$\n",
    "\n",
    "This means that the function $g(m)=2$, when $m=8$. Only 8 can satisfy the rule in this case... Let's graph it"
   ]
  },
  {
   "cell_type": "code",
   "execution_count": 14,
   "metadata": {},
   "outputs": [],
   "source": [
    "# Lets take a range of input values p from -4 to 5\n",
    "p_range = list(range(4,13))\n",
    "\n",
    "# let's define the function rule/formula\n",
    "def g_of_m(p_range):\n",
    "    r_values = [np.round((m-4)**0.5,2) for m in p_range]\n",
    "    \n",
    "    return r_values"
   ]
  },
  {
   "cell_type": "code",
   "execution_count": 15,
   "metadata": {},
   "outputs": [
    {
     "name": "stdout",
     "output_type": "stream",
     "text": [
      "[4, 5, 6, 7, 8, 9, 10, 11, 12]\n"
     ]
    },
    {
     "data": {
      "text/plain": [
       "[0.0, 1.0, 1.41, 1.73, 2.0, 2.24, 2.45, 2.65, 2.83]"
      ]
     },
     "execution_count": 15,
     "metadata": {},
     "output_type": "execute_result"
    }
   ],
   "source": [
    "# Let's see the domain and range values\n",
    "print(p_range)\n",
    "g_of_m(p_range)"
   ]
  },
  {
   "cell_type": "code",
   "execution_count": 16,
   "metadata": {},
   "outputs": [
    {
     "data": {
      "image/png": "[encoded data removed]",
      "text/plain": [
       "<Figure size 432x288 with 1 Axes>"
      ]
     },
     "metadata": {
      "needs_background": "light"
     },
     "output_type": "display_data"
    }
   ],
   "source": [
    "p_values = values_to_df(g_of_m, p_range, columns=['Output'])\n",
    "p_values.plot(grid=True)\n",
    "plt.annotate(xy=(8, 2), text='*', color='r')\n",
    "plt.title('function to plot g(m)=2, given, g(m)=sqrt{m-4}')\n",
    "plt.show()"
   ]
  },
  {
   "cell_type": "markdown",
   "metadata": {},
   "source": [
    "### Evaluating Functions Expressed in Formulas\n",
    "Some functions are defined by mathematical rules or procedures expressed in equation form. If it is possible to express the function output with a formula involving the input quantity, then we can define a function in algebraic form. For example, the equation  $2n+6p=12$  expresses a functional relationship between  $n$  and  $p$.  We can rewrite it to decide if  $p$  is a function of  $n$.\n",
    "\n",
    "**HOW TO**\n",
    "\n",
    "_Given a function in equation form, write its algebraic formula._\n",
    "\n",
    "1. Solve the equation to isolate the output variable on one side of the equal sign, with the other side as an expression that involves only the input variable.\n",
    "2. Use all the usual algebraic methods for solving equations, such as adding or subtracting the same quantity to or from both sides, or multiplying or dividing both sides of the equation by the same quantity."
   ]
  },
  {
   "cell_type": "markdown",
   "metadata": {},
   "source": [
    "_Finding an Equation of a Function_<br>\n",
    "Express the relationship $2n+6p=12$ as a function $p=f( n )$, if possible."
   ]
  },
  {
   "cell_type": "markdown",
   "metadata": {},
   "source": [
    "1. Isolate $p$ by subtracting $2n$ from both sides...=> $6p=12-2n$,\n",
    "2. Now divide both sides by 6 to further isolate $p$...=> $p=(\\frac{12}{6})-(\\frac{2n}{6})$\n",
    "3. finally...=> $p=f(n)=>2-\\frac{2n}{6}$\n",
    "\n",
    "So whatever value $n$ is, $p$ is a function of $n$ based on the rule that $2-\\frac{2n}{6}=p$"
   ]
  },
  {
   "cell_type": "markdown",
   "metadata": {},
   "source": [
    "### Evaluating a Function Given in Tabular Form\n",
    "As we saw above, we can represent functions in tables. Conversely, we can use information in tables to write functions, and we can evaluate functions using the tables."
   ]
  },
  {
   "cell_type": "code",
   "execution_count": 17,
   "metadata": {},
   "outputs": [
    {
     "data": {
      "text/html": [
       "<div>\n",
       "<style scoped>\n",
       "    .dataframe tbody tr th:only-of-type {\n",
       "        vertical-align: middle;\n",
       "    }\n",
       "\n",
       "    .dataframe tbody tr th {\n",
       "        vertical-align: top;\n",
       "    }\n",
       "\n",
       "    .dataframe thead th {\n",
       "        text-align: right;\n",
       "    }\n",
       "</style>\n",
       "<table border=\"1\" class=\"dataframe\">\n",
       "  <thead>\n",
       "    <tr style=\"text-align: right;\">\n",
       "      <th></th>\n",
       "      <th>A</th>\n",
       "      <th>B</th>\n",
       "      <th>C</th>\n",
       "      <th>D</th>\n",
       "      <th>E</th>\n",
       "    </tr>\n",
       "  </thead>\n",
       "  <tbody>\n",
       "    <tr>\n",
       "      <th>n</th>\n",
       "      <td>1</td>\n",
       "      <td>2</td>\n",
       "      <td>3</td>\n",
       "      <td>4</td>\n",
       "      <td>5</td>\n",
       "    </tr>\n",
       "    <tr>\n",
       "      <th>g(n)</th>\n",
       "      <td>8</td>\n",
       "      <td>6</td>\n",
       "      <td>7</td>\n",
       "      <td>6</td>\n",
       "      <td>8</td>\n",
       "    </tr>\n",
       "  </tbody>\n",
       "</table>\n",
       "</div>"
      ],
      "text/plain": [
       "      A  B  C  D  E\n",
       "n     1  2  3  4  5\n",
       "g(n)  8  6  7  6  8"
      ]
     },
     "execution_count": 17,
     "metadata": {},
     "output_type": "execute_result"
    }
   ],
   "source": [
    "n = [1,2,3,4,5]\n",
    "gn = [8,6,7,6,8]\n",
    "\n",
    "tab1 = pd.DataFrame([n, gn], index=['n', 'g(n)'], columns='A B C D E'.split())\n",
    "tab1"
   ]
  },
  {
   "cell_type": "markdown",
   "metadata": {},
   "source": [
    "**Using tab1 above, evaluate**\n",
    "\n",
    "ⓐ Evaluate $g( 3 )$.<br>\n",
    "ⓑ Solve $g( n )=6$.\n",
    "\n",
    "From tab1 we can see that...\n",
    "* $g(3)=7$ cos when $n$ is 3, $g(n)$ is 7\n",
    "* And when $g(n)=6$ we can also see that the input values for $n$ are $n=(2,4)$"
   ]
  },
  {
   "cell_type": "markdown",
   "metadata": {},
   "source": [
    "### Finding Function Values from a Graph\n",
    "Evaluating a function using a graph also requires finding the corresponding output value for a given input value, only in this case, we find the output value by looking at the graph. Solving a function equation using a graph requires finding all instances of the given output value on the graph and observing the corresponding input value(s)."
   ]
  },
  {
   "cell_type": "code",
   "execution_count": 59,
   "metadata": {},
   "outputs": [],
   "source": [
    "x = list(np.arange(-4, 4.05, 0.5))\n",
    "y = [i**2 for i in x]"
   ]
  },
  {
   "cell_type": "code",
   "execution_count": 61,
   "metadata": {},
   "outputs": [
    {
     "data": {
      "image/png": "[encoded data removed]",
      "text/plain": [
       "<Figure size 432x288 with 1 Axes>"
      ]
     },
     "metadata": {
      "needs_background": "light"
     },
     "output_type": "display_data"
    }
   ],
   "source": [
    "pd.DataFrame([x, y]).T.set_index(0).plot()\n",
    "plt.title('Plot for f(x) = x^2')\n",
    "plt.grid()\n",
    "plt.ylabel('y', fontweight='bold')\n",
    "plt.xlabel('X', fontweight='bold')\n",
    "plt.show()"
   ]
  },
  {
   "cell_type": "markdown",
   "metadata": {},
   "source": [
    "The above graph represents the function $f(x) = x^2$\n",
    "\n",
    "from the graph, evaluate:<br>\n",
    "ⓐ $f( 1 )$.<br>\n",
    "ⓑ Solve $f( x )=4$.\n",
    "\n",
    "\n",
    "From the graph, we can see that when $x=1$, $y=1$ too thus $f(1)=1$<br>\n",
    "We can also see that when $f(x)=4$ meaning when $y=4$, solving it means finding the$x$'s that satisfy it and these are $\\approx$$(-2,2)$\n",
    "\n",
    "* $f(x) = 4$\n",
    "* $4 = f(x)$\n",
    "* $4 = x^2$\n",
    "* $x^2 = 4$\n",
    "* $x = \\sqrt{4}$\n",
    "* $x=\\pm{2}$"
   ]
  },
  {
   "cell_type": "markdown",
   "metadata": {},
   "source": [
    "### Determining Whether a Function is One-to-One:\n",
    "Some functions have a given output value that corresponds to two or more input values. However, some functions have only one input value for each output value, as well as having only one output for each input. We call these functions **one-to-one** functions."
   ]
  },
  {
   "cell_type": "markdown",
   "metadata": {},
   "source": [
    "To visualize this concept, let’s look again at the two simple functions sketched below. The function in part (a) shows a relationship that is not a one-to-one function because inputs  $q$  and  $r$  both give output  $n$.  The function in part (b) shows a relationship that is a one-to-one function because each input is associated with a single output.\n",
    "\n",
    "<img src='https://openstax.org/apps/archive/20210823.155019/resources/6b41ee83a62edd93cf9e80894490f065d2031df7' height=400 width=700>\n",
    "\n",
    "### ONE-TO-ONE FUNCTION\n",
    "_A one-to-one function is a function in which each output value corresponds to exactly one input value._\n",
    "\n",
    "* Is the area of a circle a function of its radius? \n",
    "* If yes, is the function one-to-one?\n",
    "\n",
    "The area $A = \\pi{r}^2$, this means each radius $r$ produces a specific area $A$. Thus $A$ is a function of $r$.\n",
    "\n",
    "If the function is one-to-one, the output value $A$, must correspond to a unique input value $r$. Any area measure  $A$  is given by the formula  $A=\\pi{r}^2$.  Because areas and radii are positive numbers (we can't have a negative radius), there is exactly one solution:  $r=\\sqrt{\\frac{A}{\\pi}}$.  So the area of a circle is a one-to-one function of the circle’s radius."
   ]
  },
  {
   "cell_type": "markdown",
   "metadata": {},
   "source": [
    "ⓐ Is a balance a function of the bank account number?<br>\n",
    "ⓑ Is a bank account number a function of the balance?<br>\n",
    "ⓒ Is a balance a one-to-one function of the bank account number?"
   ]
  },
  {
   "cell_type": "markdown",
   "metadata": {},
   "source": [
    "A. **Is a balance a function of the bank account number?**<br>\n",
    "Let's write it down: <br><b>Balance = $b$, <br>Acct-number = $a$.. </b><br>so is $b$ a function of $a$? as in... is $f(a)=b$<br>Looking at a function definition, a unique value of $a$ can only produce one $b$, after the same rule in $f()$ has been applied to $a$ to check for $b$. So balance($b$) is a function of acct-number($a$), since calling a specific acct-number($a$) in a given function($f()$) that checks for it's balance($b$), will only produce one specific balance($b$) for each specific acct-number($a$)."
   ]
  },
  {
   "cell_type": "markdown",
   "metadata": {},
   "source": [
    "B. **Is a bank account number a function of the balance?**<br>\n",
    "is $f(b)=a$? meaning is a specific balance($b$) going to produce only one account($a$) at all times that a function($f()$) is applied to $b$ while checking for $a$?<br>Definitely not! Because a certain account-balance($b$) can be linked to multiple different bank-accounts($a$) across the globe."
   ]
  },
  {
   "cell_type": "markdown",
   "metadata": {},
   "source": [
    "C. **Is a balance a one-to-one function of the bank account number?**<br>\n",
    "in other words does $f(a)=b$ have a one-to-one relationship?<br>\n",
    "If the function is _one-to-one_, then the output value $b$ will have only one distinct possible input value $a$, meaning for a given balance($b$), only one account($a$) can have $a$ balance, which is not so, clearly."
   ]
  },
  {
   "cell_type": "markdown",
   "metadata": {},
   "source": [
    "### Evaluate the following:\n",
    "ⓐ If each percent grade earned in a course translates to one letter grade, is the letter grade a function of the percent grade?<br>\n",
    "ⓑ If so, is the function one-to-one?\n",
    "\n",
    "Percent-Grade = $pg$<br>\n",
    "Course = $c$<br>\n",
    "Letter-Grade = $lg$"
   ]
  },
  {
   "cell_type": "markdown",
   "metadata": {},
   "source": [
    "If each percent grade earned in a course translates to one letter grade, we know there are only 26 letters, it means that:\n",
    "* If each $pg$ is unique, then $lg=f(pg)$\n",
    "* If any $pg$ has more than one corresponding $lg$, then $lg\\ne{f(pg)}$\n",
    "\n",
    "if $lg=f(pg)$, and total $pg$ <= 26, then $lg$ has a one-to-one relationship function with $pg$ otherwise not."
   ]
  },
  {
   "cell_type": "markdown",
   "metadata": {},
   "source": [
    "### Using the Vertical Line Test:\n",
    "\n",
    "The **vertical line test** can be used to determine whether a graph represents a function. If we can draw any vertical line that intersects a graph more than once, then the graph does not define a function because a function has only one output value for each input value.\n",
    "\n",
    "<img src='https://openstax.org/apps/archive/20210823.155019/resources/73a7944f1a6253e4cc8726cc09e92801c34c9d76' width=700 height=500>"
   ]
  },
  {
   "cell_type": "markdown",
   "metadata": {},
   "source": [
    "**HOW TO**\n",
    "\n",
    "Given a graph, use the vertical line test to determine if the graph represents a function.\n",
    "\n",
    "* Inspect the graph to see if any vertical line drawn would intersect the curve more than once.\n",
    "* If there is any such line, determine that the graph does not represent a function."
   ]
  },
  {
   "cell_type": "markdown",
   "metadata": {},
   "source": [
    "### Using the Horizontal Line Test\n",
    "Once we have determined that a graph defines a function, an easy way to determine if it is a one-to-one function is to use the horizontal line test. Draw horizontal lines through the graph. If any horizontal line intersects the graph more than once, then the graph does not represent a one-to-one function.\n",
    "\n",
    "**HOW TO**\n",
    "\n",
    "Given a graph of a function, use the horizontal line test to determine if the graph represents a one-to-one function.\n",
    "\n",
    "* Inspect the graph to see if any horizontal line drawn would intersect the curve more than once.\n",
    "* If there is any such line, determine that the function is not one-to-one."
   ]
  },
  {
   "cell_type": "markdown",
   "metadata": {},
   "source": [
    "### Graphing Popular Functions:"
   ]
  },
  {
   "cell_type": "markdown",
   "metadata": {},
   "source": [
    "### 1. Constant Function:\n",
    "## $f(x) = c$\n",
    "... where $c$ is some constant number"
   ]
  },
  {
   "cell_type": "code",
   "execution_count": 62,
   "metadata": {},
   "outputs": [],
   "source": [
    "def constant_(arr, c):\n",
    "    \"\"\"This function assigns all values\n",
    "        of x, an output of c.\n",
    "        \n",
    "    @param c: a constant, number\n",
    "    @param return: arr, a list, of all c\n",
    "    \"\"\"\n",
    "    y = [c]*len(arr)\n",
    "    return y"
   ]
  },
  {
   "cell_type": "code",
   "execution_count": 63,
   "metadata": {},
   "outputs": [
    {
     "data": {
      "image/png": "[encoded data removed]",
      "text/plain": [
       "<Figure size 432x288 with 1 Axes>"
      ]
     },
     "metadata": {
      "needs_background": "light"
     },
     "output_type": "display_data"
    }
   ],
   "source": [
    "arr = x\n",
    "c = 3\n",
    "\n",
    "p_values = values_to_df(constant_, arr, c, columns=['Output'])\n",
    "p_values.plot(grid=True)\n",
    "plt.title(f'function to plot f(x)=c, where c is constant at {c}.')\n",
    "plt.show()"
   ]
  },
  {
   "cell_type": "markdown",
   "metadata": {},
   "source": [
    "### 2. Identity Function:\n",
    "## $f(x) = x$"
   ]
  },
  {
   "cell_type": "code",
   "execution_count": 64,
   "metadata": {},
   "outputs": [],
   "source": [
    "def identity_(arr):\n",
    "    return arr"
   ]
  },
  {
   "cell_type": "code",
   "execution_count": 65,
   "metadata": {},
   "outputs": [
    {
     "data": {
      "image/png": "[encoded data removed]",
      "text/plain": [
       "<Figure size 432x288 with 1 Axes>"
      ]
     },
     "metadata": {
      "needs_background": "light"
     },
     "output_type": "display_data"
    }
   ],
   "source": [
    "p_values = values_to_df(identity_, arr, columns=['Output'])\n",
    "p_values.plot(grid=True)\n",
    "plt.title(f'function to plot f(x)=x, The Identity Function.')\n",
    "plt.show()"
   ]
  },
  {
   "cell_type": "markdown",
   "metadata": {},
   "source": [
    "### 3. Absolute-Value Function:\n",
    "## $f(x) = |x|$"
   ]
  },
  {
   "cell_type": "code",
   "execution_count": 66,
   "metadata": {},
   "outputs": [],
   "source": [
    "def absolute_(arr):\n",
    "    \"\"\"For every value in arr,\n",
    "        this function returns the \n",
    "        absolute value\n",
    "    \"\"\"\n",
    "    y = [np.abs(i) for i in arr]\n",
    "    return y"
   ]
  },
  {
   "cell_type": "code",
   "execution_count": 67,
   "metadata": {},
   "outputs": [
    {
     "data": {
      "image/png": "[encoded data removed]",
      "text/plain": [
       "<Figure size 432x288 with 1 Axes>"
      ]
     },
     "metadata": {
      "needs_background": "light"
     },
     "output_type": "display_data"
    }
   ],
   "source": [
    "p_values = values_to_df(absolute_, arr, columns=['Output'])\n",
    "p_values.plot(grid=True)\n",
    "plt.title(f'function to plot f(x)=|x|, The Absolute Function.')\n",
    "plt.show()"
   ]
  },
  {
   "cell_type": "markdown",
   "metadata": {},
   "source": [
    "### 4. Quadratic Function:\n",
    "## $f(x) = x^2$"
   ]
  },
  {
   "cell_type": "code",
   "execution_count": 68,
   "metadata": {},
   "outputs": [],
   "source": [
    "def quadratic_(arr):\n",
    "    \"\"\"For every value in arr,\n",
    "        return the value squared\n",
    "    \"\"\"\n",
    "    y = [i**2 for i in arr]\n",
    "    return y"
   ]
  },
  {
   "cell_type": "code",
   "execution_count": 69,
   "metadata": {},
   "outputs": [
    {
     "data": {
      "image/png": "[encoded data removed]",
      "text/plain": [
       "<Figure size 432x288 with 1 Axes>"
      ]
     },
     "metadata": {
      "needs_background": "light"
     },
     "output_type": "display_data"
    }
   ],
   "source": [
    "p_values = values_to_df(quadratic_, arr, columns=['Output'])\n",
    "p_values.plot(grid=True)\n",
    "plt.title(f'function to plot f(x)=x^2, The Quadratic Function.')\n",
    "plt.show()"
   ]
  },
  {
   "cell_type": "markdown",
   "metadata": {},
   "source": [
    "### 5. Cubic Function:\n",
    "## $f(x) = x^3$"
   ]
  },
  {
   "cell_type": "code",
   "execution_count": 70,
   "metadata": {},
   "outputs": [],
   "source": [
    "def cubic_(arr):\n",
    "    \"\"\"For every value in arr,\n",
    "        return the value cubed\n",
    "    \"\"\"\n",
    "    y = [i**3 for i in arr]\n",
    "    return y"
   ]
  },
  {
   "cell_type": "code",
   "execution_count": 71,
   "metadata": {},
   "outputs": [
    {
     "data": {
      "image/png": "[encoded data removed]",
      "text/plain": [
       "<Figure size 432x288 with 1 Axes>"
      ]
     },
     "metadata": {
      "needs_background": "light"
     },
     "output_type": "display_data"
    }
   ],
   "source": [
    "p_values = values_to_df(cubic_, arr, columns=['Output'])\n",
    "p_values.plot(grid=True)\n",
    "plt.title(f'function to plot f(x)=x^3, The Cubic Function.')\n",
    "plt.show()"
   ]
  },
  {
   "cell_type": "markdown",
   "metadata": {},
   "source": [
    "### 6. Reciprocal Function:\n",
    "## $f(x) = \\frac{1}{x}$"
   ]
  },
  {
   "cell_type": "code",
   "execution_count": 81,
   "metadata": {},
   "outputs": [],
   "source": [
    "def reciprocal_(arr):\n",
    "    \"\"\"For every value of arr,\n",
    "        return the reciprocal value\n",
    "    \"\"\"\n",
    "    y = [1/i if i != 0 else 0 for i in arr]\n",
    "    return y"
   ]
  },
  {
   "cell_type": "code",
   "execution_count": 82,
   "metadata": {},
   "outputs": [
    {
     "data": {
      "image/png": "[encoded data removed]",
      "text/plain": [
       "<Figure size 432x288 with 1 Axes>"
      ]
     },
     "metadata": {
      "needs_background": "light"
     },
     "output_type": "display_data"
    }
   ],
   "source": [
    "p_values = values_to_df(reciprocal_, arr, columns=['Output'])\n",
    "p_values.plot(grid=True)\n",
    "plt.title(f'function to plot f(x)=1/x, The Reciprocal Function.')\n",
    "plt.show()"
   ]
  },
  {
   "cell_type": "markdown",
   "metadata": {},
   "source": [
    "### 7. Reciprocal Squared Function:\n",
    "## $f(x) = \\frac{1}{x^2}$"
   ]
  },
  {
   "cell_type": "code",
   "execution_count": 83,
   "metadata": {},
   "outputs": [],
   "source": [
    "def reciprocal_squ_(arr):\n",
    "    \"\"\"For every value of arr,\n",
    "        return the reciprocal squared \n",
    "        value\n",
    "    \"\"\"\n",
    "    y = [1/i**2 if i != 0 else 0 for i in arr]\n",
    "    return y"
   ]
  },
  {
   "cell_type": "code",
   "execution_count": 84,
   "metadata": {},
   "outputs": [
    {
     "data": {
      "image/png": "[encoded data removed]",
      "text/plain": [
       "<Figure size 432x288 with 1 Axes>"
      ]
     },
     "metadata": {
      "needs_background": "light"
     },
     "output_type": "display_data"
    }
   ],
   "source": [
    "p_values = values_to_df(reciprocal_squ_, arr, columns=['Output'])\n",
    "p_values.plot(grid=True)\n",
    "plt.title(f'Plotting f(x)=1/x^2, The Reciprocal-Squ\\'d Function.')\n",
    "plt.show()"
   ]
  },
  {
   "cell_type": "markdown",
   "metadata": {},
   "source": [
    "### 8. Square-Root Function:\n",
    "## $f(x) = \\sqrt{x}$"
   ]
  },
  {
   "cell_type": "code",
   "execution_count": 93,
   "metadata": {},
   "outputs": [],
   "source": [
    "def square_root_(arr):\n",
    "    \"\"\"For each value of arr,\n",
    "        return the square-root\n",
    "    \"\"\"\n",
    "    # since we can't find sqrt of negative numbers\n",
    "    y = [np.sqrt(i) if i >= 0 else None for i in arr]\n",
    "    return y"
   ]
  },
  {
   "cell_type": "code",
   "execution_count": 92,
   "metadata": {},
   "outputs": [
    {
     "data": {
      "image/png": "[encoded data removed]",
      "text/plain": [
       "<Figure size 432x288 with 1 Axes>"
      ]
     },
     "metadata": {
      "needs_background": "light"
     },
     "output_type": "display_data"
    }
   ],
   "source": [
    "p_values = values_to_df(square_root_, arr, columns=['Output'])\n",
    "p_values.plot(grid=True)\n",
    "plt.title(f'Plotting f(x)=sqrt-of-x, The Square-Root Function.')\n",
    "plt.show()"
   ]
  },
  {
   "cell_type": "markdown",
   "metadata": {},
   "source": [
    "### 8. Cube-Root Function:\n",
    "## $f(x) = \\sqrt[3]{x}$"
   ]
  },
  {
   "cell_type": "code",
   "execution_count": 96,
   "metadata": {},
   "outputs": [],
   "source": [
    "def cube_root_(arr):\n",
    "    \"\"\"For each value of arr,\n",
    "        return the cube-root\n",
    "    \"\"\"\n",
    "    y = [np.cbrt(i) for i in arr]\n",
    "    return y"
   ]
  },
  {
   "cell_type": "code",
   "execution_count": 98,
   "metadata": {},
   "outputs": [
    {
     "data": {
      "image/png": "[encoded data removed]",
      "text/plain": [
       "<Figure size 432x288 with 1 Axes>"
      ]
     },
     "metadata": {
      "needs_background": "light"
     },
     "output_type": "display_data"
    }
   ],
   "source": [
    "p_values = values_to_df(cube_root_, arr, columns=['Output'])\n",
    "p_values.plot(grid=True)\n",
    "plt.title(f'Plotting f(x)=cbrt-of-x, The Cube-Root Function.')\n",
    "plt.show()"
   ]
  },
  {
   "cell_type": "code",
   "execution_count": null,
   "metadata": {},
   "outputs": [],
   "source": []
  }
 ],
 "metadata": {
  "kernelspec": {
   "display_name": "Python 3",
   "language": "python",
   "name": "python3"
  },
  "language_info": {
   "codemirror_mode": {
    "name": "ipython",
    "version": 3
   },
   "file_extension": ".py",
   "mimetype": "text/x-python",
   "name": "python",
   "nbconvert_exporter": "python",
   "pygments_lexer": "ipython3",
   "version": "3.7.5"
  }
 },
 "nbformat": 4,
 "nbformat_minor": 4
}
