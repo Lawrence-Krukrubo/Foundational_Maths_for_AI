{
 "cells": [
  {
   "cell_type": "markdown",
   "metadata": {},
   "source": [
    "#### This Module is from the Maths and Programming Foundation Courses at Wolverhampton"
   ]
  },
  {
   "cell_type": "markdown",
   "metadata": {},
   "source": [
    "## Sequences\n",
    "A sequence is an ordered list of numbers. Every item can be labeled by its position, i.e.\n",
    "the 1st term, the 2nd term etc.\n",
    "\n",
    "By a sequence of real numbers we mean a function $f : N→R.$<br>\n",
    "In a way, the sequence is the function but we usually return to the list idea and write\n",
    "the sequence as $f(1), f(2), f(3)$, . ."
   ]
  },
  {
   "cell_type": "markdown",
   "metadata": {},
   "source": [
    "We can specify sequences in many ways. No matter what method we use we must\n",
    "communicate what every term in the sequence is.\n",
    "\n",
    "• **For example using a general formula: ${2n}$.\n",
    "We multiply each term in the sequence by 2.**"
   ]
  },
  {
   "cell_type": "code",
   "execution_count": 1,
   "metadata": {},
   "outputs": [
    {
     "data": {
      "text/plain": [
       "[2, 10, 6, 18, 8]"
      ]
     },
     "execution_count": 1,
     "metadata": {},
     "output_type": "execute_result"
    }
   ],
   "source": [
    "def seq_2n(arr):\n",
    "    \"\"\"This method returns a sequence\n",
    "        where every item is multiplied by 2\n",
    "        \n",
    "    @param arr: A list, a sequence\n",
    "    @return: A list\n",
    "    \"\"\"\n",
    "    arr = [i*2 for i in arr]\n",
    "    return arr\n",
    "\n",
    "seq = [1, 5, 3, 9, 4]\n",
    "seq_2n(seq)"
   ]
  },
  {
   "cell_type": "markdown",
   "metadata": {},
   "source": [
    "Using a recurrence: $x_0 = 0, x_n = 2 + x_{n−1}$. i.e.\n",
    "\n",
    "* $x_1 = 2 + x_{1−1}$\n",
    "* $x_1 = 2 + x_0$\n",
    "* $x_1 = 2 + 0$\n",
    "* $x_1 = 2$"
   ]
  },
  {
   "cell_type": "code",
   "execution_count": 2,
   "metadata": {},
   "outputs": [],
   "source": [
    "def recur_seq(n):\n",
    "    \"\"\"This method returns a sequence\n",
    "        where every next item recurs from\n",
    "        the previous item, based on the \n",
    "        recurrence rule. \n",
    "        \n",
    "        This rule states that if a list has only\n",
    "        one item, the term value must be 0, then for'\n",
    "        every next item add 2 to the last item\n",
    "        \n",
    "    @param n: int, the length of an imaginary list\n",
    "    @return: int, the value of the nth item in the seq\n",
    "    \"\"\"\n",
    "    if n == 1:\n",
    "        return 0\n",
    "    \n",
    "    return 2 + recur_seq(n-1)"
   ]
  },
  {
   "cell_type": "code",
   "execution_count": 3,
   "metadata": {},
   "outputs": [
    {
     "data": {
      "text/plain": [
       "[0, 2, 4, 6, 8, 10]"
      ]
     },
     "execution_count": 3,
     "metadata": {},
     "output_type": "execute_result"
    }
   ],
   "source": [
    "lent = 6\n",
    "seq = ['']*lent\n",
    "\n",
    "for i in range(1, len(seq)+1, 1):\n",
    "    seq[i-1] = recur_seq(i)\n",
    "    \n",
    "seq"
   ]
  },
  {
   "cell_type": "markdown",
   "metadata": {},
   "source": [
    "## Arithmetic Progressions\n",
    "An arithmetic progression is a sequence in which each term is obtained\n",
    "from the preceding by adding a fixed amount. Every arithmetic progression is given by\n",
    "the formula:<br>\n",
    "$x_n = c + (n − 1)d$,\n",
    "and the terms of an arithmetic progression are<br>\n",
    "$c$, $c + d$, $c + 2d$, $c + 3d$, . . .\n",
    "\n",
    "Where $c$ is the 1st term in the sequence, also called $x_1$, and $c + d$ is the 2nd term or $x_2$ and $c + 2d$ is the 3rd term or $x_3$ and so on...<br>While $n$ is the index or position of the term in the list. for example the 1st term $x_1$ has $n=1-1$ in python but $n=1$ in other 1 based indexing programming languages like java and so on."
   ]
  },
  {
   "cell_type": "code",
   "execution_count": 4,
   "metadata": {},
   "outputs": [],
   "source": [
    "def arith_prog(c, n, d):\n",
    "    \"\"\"Arithmetic Progression for \n",
    "      any seq or list\n",
    "      \n",
    "    @param c: int, value of 1st term in seq\n",
    "    @param d: int, constant term to be added\n",
    "    @param n: int, index of the term we seek\n",
    "    @return: int, value of the term we seek\n",
    "    \"\"\"\n",
    "    xn = c + (n - 1)*d\n",
    "    \n",
    "    return xn"
   ]
  },
  {
   "cell_type": "markdown",
   "metadata": {},
   "source": [
    "**Write a sequence that begins at 2 and adds 3 to each term in a sequence of length 8.**"
   ]
  },
  {
   "cell_type": "code",
   "execution_count": 5,
   "metadata": {},
   "outputs": [
    {
     "data": {
      "text/plain": [
       "[2, 5, 8, 11, 14, 17, 20, 23]"
      ]
     },
     "execution_count": 5,
     "metadata": {},
     "output_type": "execute_result"
    }
   ],
   "source": [
    "c = 2\n",
    "d = 3\n",
    "indexs = list(range(1, 9))\n",
    "seq = [arith_prog(c, n, d) for n in indexs]\n",
    "seq"
   ]
  },
  {
   "cell_type": "markdown",
   "metadata": {},
   "source": [
    "**Find an equation for the general term of the given arithmetic sequence and\n",
    "use it to calculate it’s 70th term. 9, 6, 3, 0, −3, . . .**"
   ]
  },
  {
   "cell_type": "markdown",
   "metadata": {},
   "source": [
    "The formula is $x_n = c + (n - 1)d$\n",
    "\n",
    "* c = 9 ... 1st term\n",
    "* d = $x_2 - x_1 => 6 - 9 = -3$\n",
    "\n",
    "formula is... \n",
    "* $x_n = 9 + (n - 1)-3$\n",
    "* $x_n = 9 -3n + 3$\n",
    "* $x_n = 12 - 3n$"
   ]
  },
  {
   "cell_type": "code",
   "execution_count": 6,
   "metadata": {},
   "outputs": [
    {
     "data": {
      "text/plain": [
       "-198"
      ]
     },
     "execution_count": 6,
     "metadata": {},
     "output_type": "execute_result"
    }
   ],
   "source": [
    "# We can use the above equation to find the 70th term or x_70\n",
    "n = 70\n",
    "x_70 = 12 - 3*n\n",
    "x_70"
   ]
  },
  {
   "cell_type": "markdown",
   "metadata": {},
   "source": [
    "**Sometimes $x_1$ may not be given. Find the general term of an arithmetic\n",
    "sequence where $x_8$ = 44 and $x_{14}$ = 86**"
   ]
  },
  {
   "cell_type": "markdown",
   "metadata": {},
   "source": [
    "Here we need to find the first term $x_1$ as well as the constant term $d$ using system of equations\n",
    "\n",
    "* $x_n = c + (n - 1)d$\n",
    "* $x_8 = c + (8 - 1)d$, which is same as... $44 = c + (8 - 1)d$, same as $c + 7d = 44$\n",
    "* $x_{14} = c + (14 - 1)d$, which is same as... $86 = c + (14 - 1)d$, same as $c + 13d = 86$\n",
    "\n",
    "so we solve the 2 system of equations. let's solve for $d$ by eliminating $c$\n",
    "\n",
    "* $c + 13d = 86$\n",
    "* minus...\n",
    "* $c + 7d = 44$\n",
    "* $=> 6d = 42$... Therefore $d = 7$\n",
    "\n",
    "Now substitute $d = 7$ into any equ to get $c$\n",
    "* $c + 7d = 44$; => $c + 7*7 = 44$; => $c + 49 = 44$; => $c = 44 - 49$, finally... $c = -5$\n",
    "\n",
    "To get the general equation for this problem, we do...\n",
    "* $x_n = c + (n - 1)d$\n",
    "* $x_n = -5 + (n - 1)7$\n",
    "* $x_n = -5 + 7n -7$\n",
    "* $x_n = -12 + 7n$"
   ]
  },
  {
   "cell_type": "code",
   "execution_count": 7,
   "metadata": {},
   "outputs": [
    {
     "data": {
      "text/plain": [
       "[-5, 2, 9, 16, 23, 30, 37, 44, 51, 58, 65, 72, 79, 86]"
      ]
     },
     "execution_count": 7,
     "metadata": {},
     "output_type": "execute_result"
    }
   ],
   "source": [
    "# Now that we have both c and d, we can use them to find the values of seq\n",
    "\n",
    "c = -5\n",
    "d = 7\n",
    "\n",
    "indexs = list(range(1, 15))\n",
    "seq = [arith_prog(c, n, d) for n in indexs]\n",
    "seq"
   ]
  },
  {
   "cell_type": "code",
   "execution_count": 8,
   "metadata": {},
   "outputs": [
    {
     "data": {
      "text/plain": [
       "[-5, 2, 9, 16, 23, 30, 37, 44, 51, 58, 65, 72, 79, 86]"
      ]
     },
     "execution_count": 8,
     "metadata": {},
     "output_type": "execute_result"
    }
   ],
   "source": [
    "# or we use the equation above to solve from x = 1 to 14\n",
    "\n",
    "seq = [(-12 + 7*n) for n in indexs]\n",
    "seq"
   ]
  },
  {
   "cell_type": "markdown",
   "metadata": {},
   "source": [
    "**Find all terms in between $x_1 = −5$ and $x_5 = 7$**"
   ]
  },
  {
   "cell_type": "markdown",
   "metadata": {},
   "source": [
    "Here, $c$ is given as -5, so we must find the constant term $d$...\n",
    "* $x_n = c + (n - 1)d$\n",
    "* $x_n = -5 + (5 - 1)d$, => \n",
    "* $7 = -5 + (5 - 1)d$, => \n",
    "* $7 = -5 + 4d$, => \n",
    "* $7+5 = 4d$, => $12/4 = d$, \n",
    "* $d = 3$\n",
    "\n",
    "With both $c$ and $d$ found, we can get the general equation as...\n",
    "\n",
    "* $x_n = -5 + (n - 1)3$\n",
    "* $x_n = -5 + (3n - 3)$\n",
    "* $x_n = -5 + 3n - 3$\n",
    "* $x_n = -8 + 3n$"
   ]
  },
  {
   "cell_type": "code",
   "execution_count": 9,
   "metadata": {},
   "outputs": [
    {
     "data": {
      "text/plain": [
       "[-5, -2, 1, 4, 7]"
      ]
     },
     "execution_count": 9,
     "metadata": {},
     "output_type": "execute_result"
    }
   ],
   "source": [
    "# with this equation, we can find from x_1 to x_5\n",
    "\n",
    "indexs = list(range(1,6))\n",
    "seq = [(-8 + 3*n) for n in indexs]\n",
    "seq"
   ]
  },
  {
   "cell_type": "markdown",
   "metadata": {},
   "source": [
    "## Geometric Progressions\n",
    "A geometric progression is a sequence where each term is obtained from\n",
    "the previous term by multiplying it by a fixed amount.<br>Every geometric progression is\n",
    "given by the formula<br>\n",
    "$x_n = cr^{n−1}$.<br>\n",
    "In general, we write the terms of a geometric sequence as\n",
    "$c$, $cr$, $cr^2$, $cr^3$, ..."
   ]
  },
  {
   "cell_type": "markdown",
   "metadata": {},
   "source": [
    "The constant factor $r$ is called the common ratio. Where $r = \\frac{x_n}{x_{n−1}}$\n",
    "(one term in the\n",
    "sequence divided by the previous term)"
   ]
  },
  {
   "cell_type": "code",
   "execution_count": 10,
   "metadata": {},
   "outputs": [],
   "source": [
    "def geom_prog(c, r, n):\n",
    "    \"\"\"Geometric Progression for \n",
    "      any seq or list\n",
    "      \n",
    "    @param c: int, the value of 1st term\n",
    "    @param r: int, the common ratio for all terms\n",
    "    @param n: int, index of term we seek\n",
    "    @return: int, value of term we seek\n",
    "    \"\"\"\n",
    "    xn = c * r**(n-1)\n",
    "    \n",
    "    return xn"
   ]
  },
  {
   "cell_type": "markdown",
   "metadata": {},
   "source": [
    "**Write a sequence that begins at 2 and is multiplied by 3 each term for 5 terms.**"
   ]
  },
  {
   "cell_type": "code",
   "execution_count": 11,
   "metadata": {},
   "outputs": [
    {
     "data": {
      "text/plain": [
       "[2, 6, 18, 54, 162]"
      ]
     },
     "execution_count": 11,
     "metadata": {},
     "output_type": "execute_result"
    }
   ],
   "source": [
    "c = 2\n",
    "r = 3\n",
    "\n",
    "# return the sequence of geometric progression\n",
    "seq = [geom_prog(c, r, n) for n in indexs]\n",
    "seq"
   ]
  },
  {
   "cell_type": "markdown",
   "metadata": {},
   "source": [
    "**Find all terms between $x_1 = 5$ and $x_5 = 103680$ of a geometric sequence.**"
   ]
  },
  {
   "cell_type": "markdown",
   "metadata": {},
   "source": [
    "here, we need to find $r$ using system of equations\n",
    "\n",
    "* $c = 5$\n",
    "\n",
    "* $x_n = cr^{n-1}$\n",
    "* $103680 = 5r^{5-1}$\n",
    "* $103680 = 5 * r^4$\n",
    "* $\\frac{103680}{5} = r^4$\n",
    "* $20736 = r^4$\n",
    "* $r^4 = 20736$\n",
    "* $r^4 = 12^4$\n",
    "* $r = 12$\n",
    "\n",
    "With $c$ and $r$ found, let's define a general equation for solving any values of $n$\n",
    "* $x_n = cr^{n-1}$\n",
    "* $x_n = 5* 12^{n-1}$"
   ]
  },
  {
   "cell_type": "code",
   "execution_count": 12,
   "metadata": {},
   "outputs": [
    {
     "data": {
      "text/plain": [
       "[5, 60, 720, 8640, 103680]"
      ]
     },
     "execution_count": 12,
     "metadata": {},
     "output_type": "execute_result"
    }
   ],
   "source": [
    "indexs = list(range(1,6))\n",
    "c = 5\n",
    "r = 12\n",
    "\n",
    "seq = [(5 * 12**(n-1)) for n in indexs]\n",
    "seq"
   ]
  },
  {
   "cell_type": "code",
   "execution_count": 13,
   "metadata": {},
   "outputs": [
    {
     "data": {
      "text/plain": [
       "[5, 60, 720, 8640, 103680]"
      ]
     },
     "execution_count": 13,
     "metadata": {},
     "output_type": "execute_result"
    }
   ],
   "source": [
    "# or using the geom formula\n",
    "\n",
    "seq = [geom_prog(c, r, n) for n in indexs]\n",
    "seq"
   ]
  },
  {
   "cell_type": "markdown",
   "metadata": {},
   "source": [
    "**Write a sequence that begins at 2 and is multiplied by 3 each term, for 5 terms.**"
   ]
  },
  {
   "cell_type": "code",
   "execution_count": 14,
   "metadata": {},
   "outputs": [
    {
     "data": {
      "text/plain": [
       "[2, 6, 18, 54, 162]"
      ]
     },
     "execution_count": 14,
     "metadata": {},
     "output_type": "execute_result"
    }
   ],
   "source": [
    "c = 2\n",
    "r = 3\n",
    "\n",
    "# Using Geometric Progression\n",
    "seq = [geom_prog(c, r, n) for n in indexs]\n",
    "seq"
   ]
  },
  {
   "cell_type": "markdown",
   "metadata": {},
   "source": [
    "**Find the general term for the given geometric sequence and use it to calculate\n",
    "it’s 6th term.<br>$3$, $\\frac{6}{5}$, $\\frac{12}{25}$, . . .**"
   ]
  },
  {
   "cell_type": "markdown",
   "metadata": {},
   "source": [
    "We need to first find $r$ using the terms given...\n",
    "\n",
    "* $c = 3$\n",
    "* $3 * r = \\frac{6}{5}$\n",
    "* $3r = \\frac{6}{5}$\n",
    "* $3r = 1.2$\n",
    "* $r = \\frac{1.2}{3}$\n",
    "* $r = 0.4$\n",
    "\n",
    "Then we can find the general term as:\n",
    "* $x_n = cr^{n-1}$\n",
    "* $x_n = 3 * 0.4^{n - 1}$"
   ]
  },
  {
   "cell_type": "code",
   "execution_count": 15,
   "metadata": {},
   "outputs": [
    {
     "data": {
      "text/plain": [
       "0.030720000000000008"
      ]
     },
     "execution_count": 15,
     "metadata": {},
     "output_type": "execute_result"
    }
   ],
   "source": [
    "# we can find the 6th term as...\n",
    "\n",
    "n = 6\n",
    "x6 = 3 * 0.4**(n-1)\n",
    "x6"
   ]
  },
  {
   "cell_type": "code",
   "execution_count": 16,
   "metadata": {},
   "outputs": [
    {
     "data": {
      "text/plain": [
       "3.0"
      ]
     },
     "execution_count": 16,
     "metadata": {},
     "output_type": "execute_result"
    }
   ],
   "source": [
    "# Let's check if the given x1 is correct...\n",
    "\n",
    "n = 1\n",
    "x1 = 3 * 0.4**(n-1)\n",
    "x1"
   ]
  },
  {
   "cell_type": "markdown",
   "metadata": {},
   "source": [
    "## Series\n",
    "In mathematics, the distinction between **sequences** and **series** is that a series is the sum\n",
    "of the terms of a sequence\n",
    "\n",
    "### Sequences of Partial Sums\n",
    "### $s_n = {\\sum_{i=1}}^n{x_i}$\n",
    "\n",
    "Given a sequence\n",
    "{s} = $[x_1, x_2, x_3, x_4]$<br>\n",
    "To find $s_4$ we sum the terms $x_i$ from $i = 1$ to $n = 4$... $(x_1 + x_2 + x_3 + x_4)$"
   ]
  },
  {
   "cell_type": "markdown",
   "metadata": {},
   "source": [
    "Consider {2n}= $[2, 4, 6, 8, 10, 12, 14, . . .]$<br>\n",
    "### $s_n = {\\sum_{i=1}}^n{2i}$"
   ]
  },
  {
   "cell_type": "markdown",
   "metadata": {},
   "source": [
    "### Arithmetic Series\n",
    "An arithmetic series is the sum of the terms of an arithmetic progression.<br>\n",
    "The partial sum of an arithmetic sequence is the sum of a finite\n",
    "number of terms within an arithmetic sequence. This is given by, in general...\n",
    "\n",
    "## $s_n = {\\sum_{i=1}}^n{x_i} => \\frac{n(x_1 + x_n)}{2}$"
   ]
  },
  {
   "cell_type": "code",
   "execution_count": 17,
   "metadata": {},
   "outputs": [],
   "source": [
    "# Given a sequence\n",
    "seq = [2,4,6,8,10,12,14]\n",
    "\n",
    "# find the sum of the first 5 terms\n",
    "x1 = 2\n",
    "n = 5\n",
    "xn = 10"
   ]
  },
  {
   "cell_type": "code",
   "execution_count": 18,
   "metadata": {},
   "outputs": [
    {
     "data": {
      "text/plain": [
       "30"
      ]
     },
     "execution_count": 18,
     "metadata": {},
     "output_type": "execute_result"
    }
   ],
   "source": [
    "def arith_series(x1, xn, n):\n",
    "    \"\"\"This method sums an arithmetic sequence\n",
    "    \"\"\"\n",
    "    ser = (n * (x1 + xn)) // 2\n",
    "    \n",
    "    return ser\n",
    "\n",
    "arith_series(x1, xn, n)"
   ]
  },
  {
   "cell_type": "markdown",
   "metadata": {},
   "source": [
    "**Sum the first 100 terms of the sequence defined by $x_n = 2 + (n − 1)3$**"
   ]
  },
  {
   "cell_type": "code",
   "execution_count": 19,
   "metadata": {},
   "outputs": [
    {
     "data": {
      "text/plain": [
       "299"
      ]
     },
     "execution_count": 19,
     "metadata": {},
     "output_type": "execute_result"
    }
   ],
   "source": [
    "n = 100\n",
    "c = 2  # first term or x1\n",
    "d = 3\n",
    "\n",
    "# since we have the 1st term, we must find the 100th term\n",
    "x100 = arith_prog(c, n, d)\n",
    "x100"
   ]
  },
  {
   "cell_type": "code",
   "execution_count": 20,
   "metadata": {},
   "outputs": [
    {
     "data": {
      "text/plain": [
       "15050"
      ]
     },
     "execution_count": 20,
     "metadata": {},
     "output_type": "execute_result"
    }
   ],
   "source": [
    "# now we apply the arithmetic seq summation method to get first 100 terms summ\n",
    "arith_series(c, x100, 100)"
   ]
  },
  {
   "cell_type": "markdown",
   "metadata": {},
   "source": [
    "**Find the 35th partial sum, $S_{35}$ of the arithmetic sequence $a_n = \\frac{1}{2}n + 1$**"
   ]
  },
  {
   "cell_type": "code",
   "execution_count": 21,
   "metadata": {},
   "outputs": [
    {
     "name": "stdout",
     "output_type": "stream",
     "text": [
      "x1: 1.5, x35: 18.5\n"
     ]
    }
   ],
   "source": [
    "x1 = 0.5*1 + 1\n",
    "n = 35\n",
    "x35 = 0.5*n + 1\n",
    "print(f\"x1: {x1}, x35: {x35}\")"
   ]
  },
  {
   "cell_type": "code",
   "execution_count": 22,
   "metadata": {},
   "outputs": [
    {
     "data": {
      "text/plain": [
       "350.0"
      ]
     },
     "execution_count": 22,
     "metadata": {},
     "output_type": "execute_result"
    }
   ],
   "source": [
    "# To find the 35th partial sum...\n",
    "_35thsum = arith_series(x1, x35, n)\n",
    "_35thsum"
   ]
  },
  {
   "cell_type": "markdown",
   "metadata": {},
   "source": [
    "**Find the sum of the first 50 terms of the arithmetic sequence 4, 9, 14, 19, 24, . . .**"
   ]
  },
  {
   "cell_type": "code",
   "execution_count": 23,
   "metadata": {},
   "outputs": [
    {
     "data": {
      "text/plain": [
       "249"
      ]
     },
     "execution_count": 23,
     "metadata": {},
     "output_type": "execute_result"
    }
   ],
   "source": [
    "n = 50\n",
    "c = 4  # which is 1st term or x1\n",
    "d = 5  # 9 - 4 or 14 - 9...\n",
    "\n",
    "# we need to find x50...\n",
    "x50 = c + (n - 1)*d\n",
    "x50"
   ]
  },
  {
   "cell_type": "code",
   "execution_count": 24,
   "metadata": {},
   "outputs": [
    {
     "data": {
      "text/plain": [
       "6325"
      ]
     },
     "execution_count": 24,
     "metadata": {},
     "output_type": "execute_result"
    }
   ],
   "source": [
    "# Now that we know the 50th term value, we can sum all em up...\n",
    "\n",
    "sum_50_terms = arith_series(c, x50, n)\n",
    "sum_50_terms"
   ]
  },
  {
   "cell_type": "markdown",
   "metadata": {},
   "source": [
    "### Geometric Series\n",
    "A geometric series is the sum of the terms of a geometric sequence.<br>\n",
    "To find the partial sum of a geometric sequence in general is:\n",
    "## $s_n = \\frac{c(1-r^n)}{1-r}$\n",
    "where $c$ is the first item in the sequence, $n$ is the term whose item or value we seek, and $r$ is the common ratio. this fornula holds that $r \\ne 1$"
   ]
  },
  {
   "cell_type": "code",
   "execution_count": 25,
   "metadata": {},
   "outputs": [],
   "source": [
    "def geom_series(c, r, n):\n",
    "    \"\"\"Sum the partial sequence\n",
    "        of a geometric progression\n",
    "        \n",
    "    @param c: int, the value of 1st term\n",
    "    @param r: int, the common ratio for all terms\n",
    "    @param n: int, index of term we seek\n",
    "    @return: int, value of term we seek\n",
    "    \"\"\"\n",
    "    assert r != 1, 'Error r cannot == 1'\n",
    "    \n",
    "    sn = (c * (1 - r**n)) // (1 - r)\n",
    "    return sn"
   ]
  },
  {
   "cell_type": "markdown",
   "metadata": {},
   "source": [
    "#### Sum the first 5 terms of the sequence defined by **$x_n = 2(3)^{n−1}$**"
   ]
  },
  {
   "cell_type": "code",
   "execution_count": 26,
   "metadata": {},
   "outputs": [
    {
     "data": {
      "text/plain": [
       "162"
      ]
     },
     "execution_count": 26,
     "metadata": {},
     "output_type": "execute_result"
    }
   ],
   "source": [
    "# first term\n",
    "c = 2\n",
    "r = 3\n",
    "\n",
    "# for the 5th term\n",
    "n = 5 \n",
    "x_n = geom_prog(c, r, n)\n",
    "x_n"
   ]
  },
  {
   "cell_type": "code",
   "execution_count": 27,
   "metadata": {},
   "outputs": [
    {
     "data": {
      "text/plain": [
       "242"
      ]
     },
     "execution_count": 27,
     "metadata": {},
     "output_type": "execute_result"
    }
   ],
   "source": [
    "# Now that we know the 1st and 5th terms, we can sum them\n",
    "# Using the geometric series function\n",
    "\n",
    "geom_sum_5th = geom_series(c, r, n)\n",
    "geom_sum_5th"
   ]
  },
  {
   "cell_type": "markdown",
   "metadata": {},
   "source": [
    "let's see all first five terms gotten from the geometric progression formula above"
   ]
  },
  {
   "cell_type": "code",
   "execution_count": 28,
   "metadata": {},
   "outputs": [
    {
     "data": {
      "text/plain": [
       "[2, 6, 18, 54, 162]"
      ]
     },
     "execution_count": 28,
     "metadata": {},
     "output_type": "execute_result"
    }
   ],
   "source": [
    "[geom_prog(c, r, n) for n in indexs]"
   ]
  },
  {
   "cell_type": "markdown",
   "metadata": {},
   "source": [
    "#### Sum the first 20 terms of the sequence defined by $a_n = 3(−2)^n$"
   ]
  },
  {
   "cell_type": "code",
   "execution_count": 29,
   "metadata": {},
   "outputs": [
    {
     "data": {
      "text/plain": [
       "2097150"
      ]
     },
     "execution_count": 29,
     "metadata": {},
     "output_type": "execute_result"
    }
   ],
   "source": [
    "# to find the 1st item or c...\n",
    "\n",
    "r = -2  # seen from the formula above\n",
    "n = 1\n",
    "c = 3 * (r)**n\n",
    "\n",
    "# to find the sum of the first 20 terms using geom-series function\n",
    "n = 20\n",
    "geom_sum_20 = geom_series(c, r, n)\n",
    "geom_sum_20"
   ]
  },
  {
   "cell_type": "markdown",
   "metadata": {},
   "source": [
    "#### Find the 15th partial sum, $S_{15}$ of the geometric sequence $x_n = 2(3)^{n−1}$"
   ]
  },
  {
   "cell_type": "code",
   "execution_count": 30,
   "metadata": {},
   "outputs": [
    {
     "data": {
      "text/plain": [
       "14348906"
      ]
     },
     "execution_count": 30,
     "metadata": {},
     "output_type": "execute_result"
    }
   ],
   "source": [
    "# From the complete geom formula above, we see that...\n",
    "\n",
    "c = 2\n",
    "r = 3\n",
    "\n",
    "# Therefore to find the 15th partial sum using geom-series\n",
    "n = 15\n",
    "geom_sum15th = geom_series(c, r, n)\n",
    "geom_sum15th"
   ]
  },
  {
   "cell_type": "markdown",
   "metadata": {},
   "source": [
    "## Find $a_n$ if $s_4 = \\frac{26}{27}$ and $r = \\frac{1}{3}$\n",
    "\n",
    "note that:\n",
    "### $s_n = \\frac{c(1-r^n)}{1-r}$"
   ]
  },
  {
   "cell_type": "markdown",
   "metadata": {},
   "source": [
    "First we find $s_1$ or it's value called $c$...\n",
    "\n",
    "### * $\\frac{26}{27} = \\frac{c(1 - {\\frac{1}{3}^4)}}{1 - \\frac{1}{3}}$\n",
    "#### * $0.9629 = \\frac{c(0.9876)}{0.6666}$\n",
    "#### * $0.9629 * 0.6666 = c(0.9876)$\n",
    "#### * $0.6419 = c(0.9876)$\n",
    "#### * $c(0.9876) = 0.6419$\n",
    "#### * $c = \\frac{0.6419}{0.9876}$\n",
    "#### * $c = 0.65$"
   ]
  },
  {
   "cell_type": "markdown",
   "metadata": {},
   "source": [
    "Now that we know both $c$ and $r$ we can define the formula for $a_n$ as...\n",
    "### * $a_n = c(r)^{n-1}$\n",
    "### * $a_n = 0.65 * (\\frac{1}{3})^{n - 1}$ \n",
    "### * $a_n = 0.65 * (0.3333)^{n - 1}$ "
   ]
  },
  {
   "cell_type": "markdown",
   "metadata": {},
   "source": [
    "## Quiz"
   ]
  },
  {
   "cell_type": "markdown",
   "metadata": {},
   "source": [
    "1. Recall, every arithmetic progression is given by<br>\n",
    "\n",
    "$a_n=a_1+(n-1)d$\n",
    "\n",
    "Find an equation for the general term of the given arithmetic sequence and use it to calculate its 100th term\n",
    "\n",
    "$4,10,16,22,28,\\dots$ "
   ]
  },
  {
   "cell_type": "code",
   "execution_count": 31,
   "metadata": {},
   "outputs": [
    {
     "data": {
      "text/plain": [
       "598"
      ]
     },
     "execution_count": 31,
     "metadata": {},
     "output_type": "execute_result"
    }
   ],
   "source": [
    "d = 6\n",
    "a1 = 4\n",
    "n = 100\n",
    "arith_prog(a1, n, d)"
   ]
  },
  {
   "cell_type": "markdown",
   "metadata": {},
   "source": [
    "2. For the given arithmetic progression\n",
    "\n",
    "$-5, a_2, a_3,a_4, 7$\n",
    "\n",
    "find: $a_2, a_3, a_4$"
   ]
  },
  {
   "cell_type": "code",
   "execution_count": 32,
   "metadata": {},
   "outputs": [
    {
     "data": {
      "text/plain": [
       "[-5, -2, 1, 4, 7]"
      ]
     },
     "execution_count": 32,
     "metadata": {},
     "output_type": "execute_result"
    }
   ],
   "source": [
    "# therefore we find d using elimination...\n",
    "d = 3\n",
    "c = -5\n",
    "indexs = list(range(1, 6))\n",
    "[arith_prog(c, n, d) for n in indexs]"
   ]
  },
  {
   "cell_type": "markdown",
   "metadata": {},
   "source": [
    "3. Recall, every geometric progression is given by the formula\n",
    "\n",
    "$a_n = a_1r^{n-1}$\n",
    "\n",
    "where $r = \\cfrac{a_n}{a_{n-1}}$\n",
    "\n",
    "Find an equation for the general term of the given sequence and use it to calculate its 11th term.\n",
    "\n",
    "$2,6,18,54,\\dots$"
   ]
  },
  {
   "cell_type": "code",
   "execution_count": 33,
   "metadata": {},
   "outputs": [
    {
     "data": {
      "text/plain": [
       "118098"
      ]
     },
     "execution_count": 33,
     "metadata": {},
     "output_type": "execute_result"
    }
   ],
   "source": [
    "c = 2\n",
    "r = 3\n",
    "n = 11\n",
    "geom_prog(c, r, n)"
   ]
  },
  {
   "cell_type": "markdown",
   "metadata": {},
   "source": [
    "4. Recall, the partial sum of an arithmetic sequence is given by\n",
    "\n",
    "$S_n=\\cfrac{n(a_1+a_n)}{2}$\n",
    "\n",
    " \n",
    "\n",
    "Find the sum of the first 60 terms of the arithmetic sequence\n",
    "\n",
    "$8,19,30,41,52,\\dots$"
   ]
  },
  {
   "cell_type": "code",
   "execution_count": 34,
   "metadata": {},
   "outputs": [
    {
     "data": {
      "text/plain": [
       "657"
      ]
     },
     "execution_count": 34,
     "metadata": {},
     "output_type": "execute_result"
    }
   ],
   "source": [
    "c = 8\n",
    "d = 11\n",
    "n = 60\n",
    "x60 = arith_prog(c, n, d)\n",
    "x60"
   ]
  },
  {
   "cell_type": "code",
   "execution_count": 35,
   "metadata": {},
   "outputs": [
    {
     "data": {
      "text/plain": [
       "19950"
      ]
     },
     "execution_count": 35,
     "metadata": {},
     "output_type": "execute_result"
    }
   ],
   "source": [
    "# Therefore sum of first 60 terms of arithmetic progression is...\n",
    "arith_series(c, x60, n)"
   ]
  },
  {
   "cell_type": "markdown",
   "metadata": {},
   "source": [
    "5. Recall, to find the partial sum of a geometric sequence\n",
    "\n",
    "$S_n = \\cfrac{a_1(1-r^n)}{1-r}$\n",
    "\n",
    "where $r \\neq 1$\n",
    "\n",
    " \n",
    "\n",
    "Find the sum of the first 10 terms of the given geometric sequence\n",
    "\n",
    "\n",
    "$4, -8, 16, -32, 64, \\dots$"
   ]
  },
  {
   "cell_type": "code",
   "execution_count": 36,
   "metadata": {},
   "outputs": [
    {
     "data": {
      "text/plain": [
       "-1364"
      ]
     },
     "execution_count": 36,
     "metadata": {},
     "output_type": "execute_result"
    }
   ],
   "source": [
    "c = 4\n",
    "r = -2\n",
    "n = 10\n",
    "\n",
    "# sum of first 10 terms of geom prog is...\n",
    "geom_series(c, r, n)"
   ]
  },
  {
   "cell_type": "code",
   "execution_count": null,
   "metadata": {},
   "outputs": [],
   "source": []
  }
 ],
 "metadata": {
  "kernelspec": {
   "display_name": "Python 3",
   "language": "python",
   "name": "python3"
  },
  "language_info": {
   "codemirror_mode": {
    "name": "ipython",
    "version": 3
   },
   "file_extension": ".py",
   "mimetype": "text/x-python",
   "name": "python",
   "nbconvert_exporter": "python",
   "pygments_lexer": "ipython3",
   "version": "3.7.5"
  }
 },
 "nbformat": 4,
 "nbformat_minor": 4
}
